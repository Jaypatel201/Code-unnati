{
 "cells": [
  {
   "cell_type": "markdown",
   "id": "160cf761",
   "metadata": {},
   "source": [
    "# variables"
   ]
  },
  {
   "cell_type": "code",
   "execution_count": 3,
   "id": "2d256d01",
   "metadata": {},
   "outputs": [
    {
     "name": "stdout",
     "output_type": "stream",
     "text": [
      "['False', 'None', 'True', '__peg_parser__', 'and', 'as', 'assert', 'async', 'await', 'break', 'class', 'continue', 'def', 'del', 'elif', 'else', 'except', 'finally', 'for', 'from', 'global', 'if', 'import', 'in', 'is', 'lambda', 'nonlocal', 'not', 'or', 'pass', 'raise', 'return', 'try', 'while', 'with', 'yield']\n"
     ]
    }
   ],
   "source": [
    "import keyword\n",
    "print(keyword.kwlist)"
   ]
  },
  {
   "cell_type": "code",
   "execution_count": 8,
   "id": "41a7fab3",
   "metadata": {},
   "outputs": [
    {
     "name": "stdout",
     "output_type": "stream",
     "text": [
      "45\n",
      "56.99\n",
      "string1\n",
      "i am string type\n",
      "True\n"
     ]
    }
   ],
   "source": [
    "var1 = 45 #int\n",
    "\n",
    "var2 = 56.99 #float\n",
    "\n",
    "var3 = \"string1\"\n",
    "\n",
    "str1 = 'i am string type'\n",
    "\n",
    "var4 = True\n",
    "\n",
    "print(var1 , var2 , var3 , str1, var4, sep='\\n')\n"
   ]
  },
  {
   "cell_type": "code",
   "execution_count": 10,
   "id": "80cd0e58",
   "metadata": {},
   "outputs": [
    {
     "name": "stdout",
     "output_type": "stream",
     "text": [
      "<class 'int'>\n",
      "<class 'float'>\n",
      "<class 'str'>\n",
      "<class 'str'>\n",
      "<class 'bool'>\n"
     ]
    }
   ],
   "source": [
    "print(type(var1))\n",
    "print(type(var2))\n",
    "print(type(var3))\n",
    "print(type(str1))\n",
    "print(type(var4))"
   ]
  },
  {
   "cell_type": "code",
   "execution_count": 11,
   "id": "f69ea70d",
   "metadata": {},
   "outputs": [
    {
     "name": "stdout",
     "output_type": "stream",
     "text": [
      "string1i am string type\n"
     ]
    }
   ],
   "source": [
    "#concatation of nummerical value not perform but we can do for string \n",
    "\n",
    "print(var3+str1)"
   ]
  },
  {
   "cell_type": "code",
   "execution_count": 12,
   "id": "40b0fb16",
   "metadata": {},
   "outputs": [
    {
     "name": "stdout",
     "output_type": "stream",
     "text": [
      "101.99000000000001\n"
     ]
    }
   ],
   "source": [
    "print(var1+var2)"
   ]
  },
  {
   "cell_type": "code",
   "execution_count": 13,
   "id": "cb714fc4",
   "metadata": {},
   "outputs": [
    {
     "name": "stdout",
     "output_type": "stream",
     "text": [
      "string1i am string type\n",
      "101.99000000000001\n"
     ]
    }
   ],
   "source": [
    "print(var3+str1)\n",
    "print(var1+var2)"
   ]
  },
  {
   "cell_type": "code",
   "execution_count": 21,
   "id": "f7a1b419",
   "metadata": {},
   "outputs": [
    {
     "name": "stdout",
     "output_type": "stream",
     "text": [
      "0\n",
      "56\n",
      "0\n"
     ]
    }
   ],
   "source": [
    "#multiple assignment\n",
    "a=b=c= 1\n",
    "b=56\n",
    "c=a=0\n",
    "b=b-a\n",
    "print(a)\n",
    "print(b)\n",
    "print(c)"
   ]
  },
  {
   "cell_type": "code",
   "execution_count": 22,
   "id": "daff4d4c",
   "metadata": {},
   "outputs": [
    {
     "name": "stdout",
     "output_type": "stream",
     "text": [
      "0 56 0\n"
     ]
    }
   ],
   "source": [
    "print(a,b,c)"
   ]
  },
  {
   "cell_type": "code",
   "execution_count": 23,
   "id": "86e232b6",
   "metadata": {},
   "outputs": [
    {
     "name": "stdout",
     "output_type": "stream",
     "text": [
      "56\n"
     ]
    }
   ],
   "source": [
    "print(b)"
   ]
  },
  {
   "cell_type": "code",
   "execution_count": 24,
   "id": "960f2d2c",
   "metadata": {},
   "outputs": [
    {
     "name": "stdout",
     "output_type": "stream",
     "text": [
      "31 32 33\n"
     ]
    }
   ],
   "source": [
    "b,c,d = 31,32,33\n",
    "\n",
    "print(b,c,d)"
   ]
  },
  {
   "cell_type": "code",
   "execution_count": 25,
   "id": "f1508394",
   "metadata": {},
   "outputs": [],
   "source": [
    "del c"
   ]
  },
  {
   "cell_type": "code",
   "execution_count": 27,
   "id": "16c986f4",
   "metadata": {},
   "outputs": [
    {
     "ename": "NameError",
     "evalue": "name 'c' is not defined",
     "output_type": "error",
     "traceback": [
      "\u001b[1;31m---------------------------------------------------------------------------\u001b[0m",
      "\u001b[1;31mNameError\u001b[0m                                 Traceback (most recent call last)",
      "\u001b[1;32mC:\\Users\\JAYKUM~1\\AppData\\Local\\Temp/ipykernel_10160/544445897.py\u001b[0m in \u001b[0;36m<module>\u001b[1;34m\u001b[0m\n\u001b[1;32m----> 1\u001b[1;33m \u001b[0mprint\u001b[0m\u001b[1;33m(\u001b[0m\u001b[0mb\u001b[0m\u001b[1;33m,\u001b[0m\u001b[0mc\u001b[0m\u001b[1;33m,\u001b[0m\u001b[0md\u001b[0m\u001b[1;33m)\u001b[0m\u001b[1;33m\u001b[0m\u001b[1;33m\u001b[0m\u001b[0m\n\u001b[0m",
      "\u001b[1;31mNameError\u001b[0m: name 'c' is not defined"
     ]
    }
   ],
   "source": [
    "print(b,c,d)"
   ]
  },
  {
   "cell_type": "markdown",
   "id": "a6dfb690",
   "metadata": {},
   "source": [
    "# python datatypes\n",
    "    \n",
    "    1) numerical  (immutable)\n",
    "          (i)  int\n",
    "         (ii) float\n",
    "         (iii) complex\n",
    "         \n",
    "    2) string ( immutable)\n",
    "    3) list   (mutable)\n",
    "    4) tuples (mutable)\n",
    "    5) dictionary( mutable)\n",
    "    6) sets (mutable)"
   ]
  },
  {
   "cell_type": "markdown",
   "id": "4257160e",
   "metadata": {},
   "source": [
    "# String "
   ]
  },
  {
   "cell_type": "code",
   "execution_count": 29,
   "id": "1c08b773",
   "metadata": {},
   "outputs": [
    {
     "data": {
      "text/plain": [
       "'machine learning'"
      ]
     },
     "execution_count": 29,
     "metadata": {},
     "output_type": "execute_result"
    }
   ],
   "source": [
    "#last string print without using print()\n",
    "str1= \"vadodara\"\n",
    "str2=\"python data\"\n",
    "str3=\"machine learning\"\n",
    " \n",
    "str3"
   ]
  },
  {
   "cell_type": "code",
   "execution_count": 30,
   "id": "7f8896f1",
   "metadata": {},
   "outputs": [
    {
     "name": "stdout",
     "output_type": "stream",
     "text": [
      "vadodara python data machine learning\n"
     ]
    }
   ],
   "source": [
    "print(str1, str2, str3)"
   ]
  },
  {
   "cell_type": "code",
   "execution_count": 31,
   "id": "5e9d4539",
   "metadata": {},
   "outputs": [
    {
     "name": "stdout",
     "output_type": "stream",
     "text": [
      "vadodarapython datamachine learning\n"
     ]
    }
   ],
   "source": [
    "# string concatation\n",
    "\n",
    "print(str1+str2+str3)"
   ]
  },
  {
   "cell_type": "code",
   "execution_count": 2,
   "id": "e397516c",
   "metadata": {},
   "outputs": [
    {
     "name": "stdout",
     "output_type": "stream",
     "text": [
      "vadodara python data machine learning\n"
     ]
    }
   ],
   "source": [
    "str1= \"vadodara\"\n",
    "str2=\"python data\"\n",
    "str3=\"machine learning\"\n",
    " \n",
    "print(str1+' '+str2+' '+str3)"
   ]
  },
  {
   "cell_type": "code",
   "execution_count": 2,
   "id": "e6fc226f",
   "metadata": {},
   "outputs": [
    {
     "name": "stdout",
     "output_type": "stream",
     "text": [
      "python is a \n",
      "      programming langauge \n"
     ]
    }
   ],
   "source": [
    "#multi line string \n",
    "\n",
    "str1='''python is a \n",
    "      programming langauge '''\n",
    "print(str1)"
   ]
  },
  {
   "cell_type": "code",
   "execution_count": 3,
   "id": "177d5f6c",
   "metadata": {},
   "outputs": [
    {
     "data": {
      "text/plain": [
       "'python is a programming langauge'"
      ]
     },
     "execution_count": 3,
     "metadata": {},
     "output_type": "execute_result"
    }
   ],
   "source": [
    "str1 = 'python is a programming langauge'\n",
    "str1"
   ]
  },
  {
   "cell_type": "code",
   "execution_count": 4,
   "id": "41896cd2",
   "metadata": {},
   "outputs": [
    {
     "data": {
      "text/plain": [
       "'p'"
      ]
     },
     "execution_count": 4,
     "metadata": {},
     "output_type": "execute_result"
    }
   ],
   "source": [
    "str1[0]"
   ]
  },
  {
   "cell_type": "code",
   "execution_count": 5,
   "id": "b115a5c3",
   "metadata": {},
   "outputs": [
    {
     "data": {
      "text/plain": [
       "'python is a programming langauge'"
      ]
     },
     "execution_count": 5,
     "metadata": {},
     "output_type": "execute_result"
    }
   ],
   "source": [
    "str1[:]"
   ]
  },
  {
   "cell_type": "code",
   "execution_count": 6,
   "id": "3096c5cd",
   "metadata": {},
   "outputs": [
    {
     "data": {
      "text/plain": [
       "'python is '"
      ]
     },
     "execution_count": 6,
     "metadata": {},
     "output_type": "execute_result"
    }
   ],
   "source": [
    "#it will print the string from location 0 to 10\n",
    "str1[0:10]"
   ]
  },
  {
   "cell_type": "code",
   "execution_count": 7,
   "id": "0246ac28",
   "metadata": {},
   "outputs": [
    {
     "data": {
      "text/plain": [
       "'thon is'"
      ]
     },
     "execution_count": 7,
     "metadata": {},
     "output_type": "execute_result"
    }
   ],
   "source": [
    "str1[2:9]"
   ]
  },
  {
   "cell_type": "code",
   "execution_count": 8,
   "id": "0bb1c013",
   "metadata": {},
   "outputs": [
    {
     "data": {
      "text/plain": [
       "'is a program'"
      ]
     },
     "execution_count": 8,
     "metadata": {},
     "output_type": "execute_result"
    }
   ],
   "source": [
    "str1[7:19]"
   ]
  },
  {
   "cell_type": "code",
   "execution_count": 9,
   "id": "3ee9a19a",
   "metadata": {},
   "outputs": [
    {
     "data": {
      "text/plain": [
       "'python is a programming langauge'"
      ]
     },
     "execution_count": 9,
     "metadata": {},
     "output_type": "execute_result"
    }
   ],
   "source": [
    "str1"
   ]
  },
  {
   "cell_type": "code",
   "execution_count": 11,
   "id": "d21a21af",
   "metadata": {},
   "outputs": [
    {
     "data": {
      "text/plain": [
       "'e'"
      ]
     },
     "execution_count": 11,
     "metadata": {},
     "output_type": "execute_result"
    }
   ],
   "source": [
    "#it will print the last postion string letter \n",
    "str1[-1]"
   ]
  },
  {
   "cell_type": "code",
   "execution_count": 12,
   "id": "7b75723b",
   "metadata": {},
   "outputs": [],
   "source": [
    "# if you want to print from begin to end with some steps "
   ]
  },
  {
   "cell_type": "markdown",
   "id": "c69e4b9b",
   "metadata": {},
   "source": [
    "# string[begin:end:steps]"
   ]
  },
  {
   "cell_type": "code",
   "execution_count": 13,
   "id": "178a248a",
   "metadata": {},
   "outputs": [
    {
     "name": "stdout",
     "output_type": "stream",
     "text": [
      "learning python is very very easy !!!\n"
     ]
    }
   ],
   "source": [
    "s = 'learning python is very very easy !!!'\n",
    "print(s)"
   ]
  },
  {
   "cell_type": "code",
   "execution_count": 15,
   "id": "8dad3157",
   "metadata": {},
   "outputs": [
    {
     "data": {
      "text/plain": [
       "'learning python'"
      ]
     },
     "execution_count": 15,
     "metadata": {},
     "output_type": "execute_result"
    }
   ],
   "source": [
    "s[0:15]"
   ]
  },
  {
   "cell_type": "code",
   "execution_count": 16,
   "id": "b7a31aeb",
   "metadata": {},
   "outputs": [
    {
     "data": {
      "text/plain": [
       "'learning'"
      ]
     },
     "execution_count": 16,
     "metadata": {},
     "output_type": "execute_result"
    }
   ],
   "source": [
    "s[0:8]"
   ]
  },
  {
   "cell_type": "code",
   "execution_count": 17,
   "id": "921b3e04",
   "metadata": {},
   "outputs": [
    {
     "data": {
      "text/plain": [
       "'lann'"
      ]
     },
     "execution_count": 17,
     "metadata": {},
     "output_type": "execute_result"
    }
   ],
   "source": [
    "# now if we want to print s in odd or even \n",
    "\n",
    "s[0:8:2]"
   ]
  },
  {
   "cell_type": "code",
   "execution_count": 18,
   "id": "4235b9c6",
   "metadata": {},
   "outputs": [
    {
     "data": {
      "text/plain": [
       "'learning python is very very easy !!!'"
      ]
     },
     "execution_count": 18,
     "metadata": {},
     "output_type": "execute_result"
    }
   ],
   "source": [
    "s"
   ]
  },
  {
   "cell_type": "code",
   "execution_count": 19,
   "id": "6908836e",
   "metadata": {},
   "outputs": [
    {
     "data": {
      "text/plain": [
       "'!'"
      ]
     },
     "execution_count": 19,
     "metadata": {},
     "output_type": "execute_result"
    }
   ],
   "source": [
    "s[-1]"
   ]
  },
  {
   "cell_type": "code",
   "execution_count": 21,
   "id": "f907d27f",
   "metadata": {},
   "outputs": [
    {
     "data": {
      "text/plain": [
       "'!!! ysae yrev yrev si nohtyp gninrael'"
      ]
     },
     "execution_count": 21,
     "metadata": {},
     "output_type": "execute_result"
    }
   ],
   "source": [
    "#if you want to print the string in revers form no need to give begin:end just give step\n",
    "s[::-1]"
   ]
  },
  {
   "cell_type": "code",
   "execution_count": 22,
   "id": "660acb48",
   "metadata": {},
   "outputs": [
    {
     "data": {
      "text/plain": [
       "'ev si noht'"
      ]
     },
     "execution_count": 22,
     "metadata": {},
     "output_type": "execute_result"
    }
   ],
   "source": [
    "s[20:10:-1]"
   ]
  },
  {
   "cell_type": "code",
   "execution_count": 23,
   "id": "84108e75",
   "metadata": {},
   "outputs": [
    {
     "data": {
      "text/plain": [
       "'python is a programming langauge'"
      ]
     },
     "execution_count": 23,
     "metadata": {},
     "output_type": "execute_result"
    }
   ],
   "source": [
    "str1"
   ]
  },
  {
   "cell_type": "code",
   "execution_count": 24,
   "id": "49924c20",
   "metadata": {},
   "outputs": [
    {
     "data": {
      "text/plain": [
       "'learning python is very very easy !!!'"
      ]
     },
     "execution_count": 24,
     "metadata": {},
     "output_type": "execute_result"
    }
   ],
   "source": [
    "s"
   ]
  },
  {
   "cell_type": "code",
   "execution_count": 25,
   "id": "5278aa92",
   "metadata": {},
   "outputs": [
    {
     "data": {
      "text/plain": [
       "'python is a programming langaugelearning python is very very easy !!!'"
      ]
     },
     "execution_count": 25,
     "metadata": {},
     "output_type": "execute_result"
    }
   ],
   "source": [
    "str1+s"
   ]
  },
  {
   "cell_type": "code",
   "execution_count": 26,
   "id": "d46d1618",
   "metadata": {},
   "outputs": [
    {
     "data": {
      "text/plain": [
       "'python is a programming langaugepython is a programming langauge'"
      ]
     },
     "execution_count": 26,
     "metadata": {},
     "output_type": "execute_result"
    }
   ],
   "source": [
    "#if you want t0 print same string multiplt time \n",
    "\n",
    "str1*2"
   ]
  },
  {
   "cell_type": "code",
   "execution_count": 27,
   "id": "42725802",
   "metadata": {},
   "outputs": [
    {
     "data": {
      "text/plain": [
       "'learning python is very very easy !!!learning python is very very easy !!!learning python is very very easy !!!'"
      ]
     },
     "execution_count": 27,
     "metadata": {},
     "output_type": "execute_result"
    }
   ],
   "source": [
    "s*3"
   ]
  },
  {
   "cell_type": "code",
   "execution_count": 29,
   "id": "99fb1a30",
   "metadata": {},
   "outputs": [
    {
     "ename": "TypeError",
     "evalue": "'str' object doesn't support item deletion",
     "output_type": "error",
     "traceback": [
      "\u001b[1;31m---------------------------------------------------------------------------\u001b[0m",
      "\u001b[1;31mTypeError\u001b[0m                                 Traceback (most recent call last)",
      "\u001b[1;32mC:\\Users\\JAYKUM~1\\AppData\\Local\\Temp/ipykernel_16160/3198465358.py\u001b[0m in \u001b[0;36m<module>\u001b[1;34m\u001b[0m\n\u001b[0;32m      1\u001b[0m \u001b[1;31m#if you want to delete the string it will not support\u001b[0m\u001b[1;33m\u001b[0m\u001b[1;33m\u001b[0m\u001b[0m\n\u001b[1;32m----> 2\u001b[1;33m \u001b[1;32mdel\u001b[0m \u001b[0ms\u001b[0m\u001b[1;33m[\u001b[0m\u001b[1;36m1\u001b[0m\u001b[1;33m]\u001b[0m\u001b[1;33m\u001b[0m\u001b[1;33m\u001b[0m\u001b[0m\n\u001b[0m",
      "\u001b[1;31mTypeError\u001b[0m: 'str' object doesn't support item deletion"
     ]
    }
   ],
   "source": [
    "#if you want to delete the string it will not support \n",
    "del s[1]"
   ]
  },
  {
   "cell_type": "code",
   "execution_count": 31,
   "id": "c38c079b",
   "metadata": {},
   "outputs": [
    {
     "name": "stdout",
     "output_type": "stream",
     "text": [
      "new string\n"
     ]
    }
   ],
   "source": [
    "#but you can update it \n",
    "s = 'new string'\n",
    "print(s)"
   ]
  },
  {
   "cell_type": "code",
   "execution_count": 32,
   "id": "813c6130",
   "metadata": {},
   "outputs": [
    {
     "data": {
      "text/plain": [
       "10"
      ]
     },
     "execution_count": 32,
     "metadata": {},
     "output_type": "execute_result"
    }
   ],
   "source": [
    "# length of the string \n",
    "\n",
    "len(s)"
   ]
  },
  {
   "cell_type": "code",
   "execution_count": 33,
   "id": "9c3d0d65",
   "metadata": {},
   "outputs": [
    {
     "data": {
      "text/plain": [
       "True"
      ]
     },
     "execution_count": 33,
     "metadata": {},
     "output_type": "execute_result"
    }
   ],
   "source": [
    "str1>=s"
   ]
  },
  {
   "cell_type": "code",
   "execution_count": 34,
   "id": "f26adc1a",
   "metadata": {},
   "outputs": [
    {
     "data": {
      "text/plain": [
       "True"
      ]
     },
     "execution_count": 34,
     "metadata": {},
     "output_type": "execute_result"
    }
   ],
   "source": [
    "str1!=s"
   ]
  },
  {
   "cell_type": "code",
   "execution_count": 35,
   "id": "9a3ab452",
   "metadata": {},
   "outputs": [],
   "source": [
    "str2= '   afjakakja'\n",
    "str3= ' ajnjasxus  '"
   ]
  },
  {
   "cell_type": "code",
   "execution_count": 36,
   "id": "634bc562",
   "metadata": {},
   "outputs": [
    {
     "data": {
      "text/plain": [
       "'   afjakakja'"
      ]
     },
     "execution_count": 36,
     "metadata": {},
     "output_type": "execute_result"
    }
   ],
   "source": [
    "#it will not count right space \n",
    "str2.rstrip()"
   ]
  },
  {
   "cell_type": "code",
   "execution_count": 37,
   "id": "b674e122",
   "metadata": {},
   "outputs": [
    {
     "data": {
      "text/plain": [
       "'afjakakja'"
      ]
     },
     "execution_count": 37,
     "metadata": {},
     "output_type": "execute_result"
    }
   ],
   "source": [
    "#it will not count left space\n",
    "str2.lstrip()"
   ]
  },
  {
   "cell_type": "code",
   "execution_count": 38,
   "id": "02d16fdf",
   "metadata": {},
   "outputs": [
    {
     "data": {
      "text/plain": [
       "'new string'"
      ]
     },
     "execution_count": 38,
     "metadata": {},
     "output_type": "execute_result"
    }
   ],
   "source": [
    "s"
   ]
  },
  {
   "cell_type": "code",
   "execution_count": 39,
   "id": "549c7d8d",
   "metadata": {},
   "outputs": [
    {
     "name": "stdout",
     "output_type": "stream",
     "text": [
      "16\n"
     ]
    }
   ],
   "source": [
    "#if you want to find the particular string \n",
    "\n",
    "str1='python is a fun langauge'\n",
    "print (str1.find('langauge'))"
   ]
  },
  {
   "cell_type": "code",
   "execution_count": 42,
   "id": "5870b8b6",
   "metadata": {},
   "outputs": [
    {
     "name": "stdout",
     "output_type": "stream",
     "text": [
      "-1\n"
     ]
    }
   ],
   "source": [
    "#if strinng is not found then it will return -1\n",
    "print(str1.find('jay'))"
   ]
  },
  {
   "cell_type": "markdown",
   "id": "22123d84",
   "metadata": {},
   "source": [
    "# String formatting"
   ]
  },
  {
   "cell_type": "code",
   "execution_count": 45,
   "id": "670c95c3",
   "metadata": {},
   "outputs": [
    {
     "name": "stdout",
     "output_type": "stream",
     "text": [
      "\n",
      "print string in positional order: \n",
      "programme python langauge\n"
     ]
    }
   ],
   "source": [
    "#positional formatting \n",
    "string1 = \"{1} {0} {2}\".format('python', 'programme', 'langauge')\n",
    "print(\"\\nprint string in positional order: \")\n",
    "print(string1)"
   ]
  },
  {
   "cell_type": "code",
   "execution_count": 49,
   "id": "c57c0dcb",
   "metadata": {},
   "outputs": [
    {
     "name": "stdout",
     "output_type": "stream",
     "text": [
      "\n",
      " print string in keyword:\n",
      "python progamming langauge\n"
     ]
    }
   ],
   "source": [
    "#keyword formatting\n",
    "string1 = \"{a} {e} {c}\".format(a=\"python\" , e= \"progamming\",c=\"langauge\")\n",
    "print(\"\\n print string in keyword:\")\n",
    "print(string1)"
   ]
  },
  {
   "cell_type": "code",
   "execution_count": 2,
   "id": "32eafebc",
   "metadata": {},
   "outputs": [
    {
     "name": "stdout",
     "output_type": "stream",
     "text": [
      "\n",
      " print string in default order:\n",
      "python programming langauge\n"
     ]
    }
   ],
   "source": [
    "#default order\n",
    "string1 = \"{} {} {}\".format(\"python\" , \"programming\" ,\"langauge\")\n",
    "print(\"\\n print string in default order:\")\n",
    "print(string1)\n"
   ]
  },
  {
   "cell_type": "markdown",
   "id": "9d299bd5",
   "metadata": {},
   "source": [
    "# Tuple"
   ]
  },
  {
   "cell_type": "code",
   "execution_count": 3,
   "id": "ded2e111",
   "metadata": {},
   "outputs": [
    {
     "name": "stdout",
     "output_type": "stream",
     "text": [
      "('abcd', 123, 3.5, 'code', 2.2)\n"
     ]
    }
   ],
   "source": [
    "tuple1=('abcd', 123, 3.5,'code', 2.2 )\n",
    "print(tuple1)"
   ]
  },
  {
   "cell_type": "code",
   "execution_count": 4,
   "id": "6d99d0e3",
   "metadata": {},
   "outputs": [
    {
     "data": {
      "text/plain": [
       "'abcd'"
      ]
     },
     "execution_count": 4,
     "metadata": {},
     "output_type": "execute_result"
    }
   ],
   "source": [
    "tuple1[0]"
   ]
  },
  {
   "cell_type": "code",
   "execution_count": 6,
   "id": "df8af6aa",
   "metadata": {},
   "outputs": [
    {
     "data": {
      "text/plain": [
       "2.2"
      ]
     },
     "execution_count": 6,
     "metadata": {},
     "output_type": "execute_result"
    }
   ],
   "source": [
    "tuple1[4]"
   ]
  },
  {
   "cell_type": "code",
   "execution_count": 7,
   "id": "a1252a20",
   "metadata": {},
   "outputs": [
    {
     "data": {
      "text/plain": [
       "2.2"
      ]
     },
     "execution_count": 7,
     "metadata": {},
     "output_type": "execute_result"
    }
   ],
   "source": [
    "tuple1[-1]"
   ]
  },
  {
   "cell_type": "code",
   "execution_count": 8,
   "id": "694f6430",
   "metadata": {},
   "outputs": [
    {
     "data": {
      "text/plain": [
       "(3.5, 'code')"
      ]
     },
     "execution_count": 8,
     "metadata": {},
     "output_type": "execute_result"
    }
   ],
   "source": [
    "tuple1[2:4]"
   ]
  },
  {
   "cell_type": "code",
   "execution_count": 9,
   "id": "ff3f8aee",
   "metadata": {},
   "outputs": [
    {
     "data": {
      "text/plain": [
       "(3.5, 'code', 2.2)"
      ]
     },
     "execution_count": 9,
     "metadata": {},
     "output_type": "execute_result"
    }
   ],
   "source": [
    "tuple1[2:5]"
   ]
  },
  {
   "cell_type": "code",
   "execution_count": 12,
   "id": "a240dbc4",
   "metadata": {},
   "outputs": [
    {
     "data": {
      "text/plain": [
       "()"
      ]
     },
     "execution_count": 12,
     "metadata": {},
     "output_type": "execute_result"
    }
   ],
   "source": [
    "tuple1[3:1]"
   ]
  },
  {
   "cell_type": "code",
   "execution_count": 13,
   "id": "49a1e269",
   "metadata": {},
   "outputs": [
    {
     "data": {
      "text/plain": [
       "5"
      ]
     },
     "execution_count": 13,
     "metadata": {},
     "output_type": "execute_result"
    }
   ],
   "source": [
    "len(tuple1)"
   ]
  },
  {
   "cell_type": "code",
   "execution_count": 15,
   "id": "a487a350",
   "metadata": {},
   "outputs": [
    {
     "data": {
      "text/plain": [
       "('abcd', 123, 3.5, 'code', 2.2, 'abcd', 123, 3.5, 'code', 2.2)"
      ]
     },
     "execution_count": 15,
     "metadata": {},
     "output_type": "execute_result"
    }
   ],
   "source": [
    "tuple1*2"
   ]
  },
  {
   "cell_type": "code",
   "execution_count": 16,
   "id": "569701a2",
   "metadata": {},
   "outputs": [],
   "source": [
    "tuple2=(123, 'jay patel')"
   ]
  },
  {
   "cell_type": "code",
   "execution_count": 17,
   "id": "48d1a986",
   "metadata": {},
   "outputs": [
    {
     "data": {
      "text/plain": [
       "('abcd', 123, 3.5, 'code', 2.2, 123, 'jay patel')"
      ]
     },
     "execution_count": 17,
     "metadata": {},
     "output_type": "execute_result"
    }
   ],
   "source": [
    "tuple1+tuple2"
   ]
  },
  {
   "cell_type": "code",
   "execution_count": 18,
   "id": "b6597565",
   "metadata": {},
   "outputs": [
    {
     "name": "stdout",
     "output_type": "stream",
     "text": [
      "[10, 20, 30, 40]\n"
     ]
    }
   ],
   "source": [
    "t=(40,10,30,20)\n",
    "t1=sorted(t)\n",
    "print(t1)"
   ]
  },
  {
   "cell_type": "code",
   "execution_count": 19,
   "id": "cd1588d4",
   "metadata": {},
   "outputs": [
    {
     "name": "stdout",
     "output_type": "stream",
     "text": [
      "(10, 20, 10, 10, 20)\n"
     ]
    }
   ],
   "source": [
    "tup=(10,20,10,10,20)\n",
    "print(tup)"
   ]
  },
  {
   "cell_type": "code",
   "execution_count": 20,
   "id": "b28ade61",
   "metadata": {},
   "outputs": [
    {
     "name": "stdout",
     "output_type": "stream",
     "text": [
      "0\n"
     ]
    }
   ],
   "source": [
    "print(tup.index(10))"
   ]
  },
  {
   "cell_type": "code",
   "execution_count": 21,
   "id": "1c3774e0",
   "metadata": {},
   "outputs": [
    {
     "ename": "ValueError",
     "evalue": "tuple.index(x): x not in tuple",
     "output_type": "error",
     "traceback": [
      "\u001b[1;31m---------------------------------------------------------------------------\u001b[0m",
      "\u001b[1;31mValueError\u001b[0m                                Traceback (most recent call last)",
      "\u001b[1;32mC:\\Users\\JAYKUM~1\\AppData\\Local\\Temp/ipykernel_19872/2563457292.py\u001b[0m in \u001b[0;36m<module>\u001b[1;34m\u001b[0m\n\u001b[1;32m----> 1\u001b[1;33m \u001b[0mprint\u001b[0m\u001b[1;33m(\u001b[0m\u001b[0mtup\u001b[0m\u001b[1;33m.\u001b[0m\u001b[0mindex\u001b[0m\u001b[1;33m(\u001b[0m\u001b[1;36m30\u001b[0m\u001b[1;33m)\u001b[0m\u001b[1;33m)\u001b[0m\u001b[1;33m\u001b[0m\u001b[1;33m\u001b[0m\u001b[0m\n\u001b[0m",
      "\u001b[1;31mValueError\u001b[0m: tuple.index(x): x not in tuple"
     ]
    }
   ],
   "source": [
    "print(tup.index(30))"
   ]
  },
  {
   "cell_type": "markdown",
   "id": "b8c3ba83",
   "metadata": {},
   "source": [
    "# List"
   ]
  },
  {
   "cell_type": "code",
   "execution_count": 1,
   "id": "84477a8e",
   "metadata": {},
   "outputs": [
    {
     "data": {
      "text/plain": [
       "['hello', 33, 55.6, False, 1000]"
      ]
     },
     "execution_count": 1,
     "metadata": {},
     "output_type": "execute_result"
    }
   ],
   "source": [
    "lst1=['hello', 33, 55.6, False , 1000 ]\n",
    "lst1"
   ]
  },
  {
   "cell_type": "code",
   "execution_count": 4,
   "id": "4b2816ee",
   "metadata": {},
   "outputs": [],
   "source": [
    "lst1=['hello', 33, 55.6, False , 1000 ]\n",
    "lst2=['hi', 36, 56, True , 100 ]\n",
    "lst3=['bye', 37, 55.6, False , 10 ]"
   ]
  },
  {
   "cell_type": "code",
   "execution_count": 5,
   "id": "a4fe1551",
   "metadata": {},
   "outputs": [
    {
     "data": {
      "text/plain": [
       "10"
      ]
     },
     "execution_count": 5,
     "metadata": {},
     "output_type": "execute_result"
    }
   ],
   "source": [
    "len(lst1+lst2)"
   ]
  },
  {
   "cell_type": "code",
   "execution_count": 6,
   "id": "af9285aa",
   "metadata": {},
   "outputs": [
    {
     "data": {
      "text/plain": [
       "list"
      ]
     },
     "execution_count": 6,
     "metadata": {},
     "output_type": "execute_result"
    }
   ],
   "source": [
    "type(lst1)"
   ]
  },
  {
   "cell_type": "code",
   "execution_count": 7,
   "id": "5e9a398e",
   "metadata": {},
   "outputs": [
    {
     "data": {
      "text/plain": [
       "1000"
      ]
     },
     "execution_count": 7,
     "metadata": {},
     "output_type": "execute_result"
    }
   ],
   "source": [
    "lst1[4]"
   ]
  },
  {
   "cell_type": "code",
   "execution_count": 8,
   "id": "b2d14852",
   "metadata": {},
   "outputs": [
    {
     "data": {
      "text/plain": [
       "[33, 55.6, False]"
      ]
     },
     "execution_count": 8,
     "metadata": {},
     "output_type": "execute_result"
    }
   ],
   "source": [
    "lst1[1:4]"
   ]
  },
  {
   "cell_type": "code",
   "execution_count": 12,
   "id": "68144852",
   "metadata": {},
   "outputs": [
    {
     "data": {
      "text/plain": [
       "[33, 55.6]"
      ]
     },
     "execution_count": 12,
     "metadata": {},
     "output_type": "execute_result"
    }
   ],
   "source": [
    "lst1[-4:-2]"
   ]
  },
  {
   "cell_type": "code",
   "execution_count": 13,
   "id": "b11d4812",
   "metadata": {},
   "outputs": [
    {
     "data": {
      "text/plain": [
       "['hello', 2000, 55.6, False, 1000]"
      ]
     },
     "execution_count": 13,
     "metadata": {},
     "output_type": "execute_result"
    }
   ],
   "source": [
    "lst1[1]=2000\n",
    "lst1"
   ]
  },
  {
   "cell_type": "code",
   "execution_count": 14,
   "id": "87789f80",
   "metadata": {},
   "outputs": [],
   "source": [
    "del lst1[-1]"
   ]
  },
  {
   "cell_type": "code",
   "execution_count": 15,
   "id": "e38bbe5c",
   "metadata": {},
   "outputs": [
    {
     "data": {
      "text/plain": [
       "['hello', 2000, 55.6, False]"
      ]
     },
     "execution_count": 15,
     "metadata": {},
     "output_type": "execute_result"
    }
   ],
   "source": [
    "lst1"
   ]
  },
  {
   "cell_type": "code",
   "execution_count": 18,
   "id": "6a93eecd",
   "metadata": {},
   "outputs": [],
   "source": [
    "#WE Can update and del in list"
   ]
  },
  {
   "cell_type": "markdown",
   "id": "fefa9dc1",
   "metadata": {},
   "source": [
    "# Dictonery"
   ]
  },
  {
   "cell_type": "code",
   "execution_count": 19,
   "id": "ba01bfae",
   "metadata": {},
   "outputs": [
    {
     "name": "stdout",
     "output_type": "stream",
     "text": [
      "{'institute': 'kjit', 'course': 'artifical intelligence', 'branch': 'information technology'}\n"
     ]
    }
   ],
   "source": [
    "dict1 ={'institute':'kjit', \"course\": \"artifical intelligence\", \"branch\" : \"information technology\"}\n",
    "\n",
    "print(dict1)"
   ]
  },
  {
   "cell_type": "code",
   "execution_count": 21,
   "id": "3b2d0207",
   "metadata": {},
   "outputs": [
    {
     "data": {
      "text/plain": [
       "{'fruit': 'apple', 'colour': 'black', 'branch': 'information technology'}"
      ]
     },
     "execution_count": 21,
     "metadata": {},
     "output_type": "execute_result"
    }
   ],
   "source": [
    "dict2 ={'fruit':'apple', \"colour\": \"black\", \"branch\" : \"information technology\"}\n",
    "dict2\n"
   ]
  },
  {
   "cell_type": "code",
   "execution_count": 22,
   "id": "07f8772f",
   "metadata": {},
   "outputs": [
    {
     "data": {
      "text/plain": [
       "{1: 'apple', 2: 'black', 3: 'information technology'}"
      ]
     },
     "execution_count": 22,
     "metadata": {},
     "output_type": "execute_result"
    }
   ],
   "source": [
    "dict2 ={1:'apple', 2: \"black\", 3 : \"information technology\"}\n",
    "dict2"
   ]
  },
  {
   "cell_type": "code",
   "execution_count": 23,
   "id": "61b46c89",
   "metadata": {},
   "outputs": [
    {
     "data": {
      "text/plain": [
       "dict_keys(['institute', 'course', 'branch'])"
      ]
     },
     "execution_count": 23,
     "metadata": {},
     "output_type": "execute_result"
    }
   ],
   "source": [
    "#print keys only\n",
    "dict1.keys()"
   ]
  },
  {
   "cell_type": "code",
   "execution_count": 24,
   "id": "37ad78fe",
   "metadata": {},
   "outputs": [
    {
     "data": {
      "text/plain": [
       "dict_values(['kjit', 'artifical intelligence', 'information technology'])"
      ]
     },
     "execution_count": 24,
     "metadata": {},
     "output_type": "execute_result"
    }
   ],
   "source": [
    "#print values\n",
    "dict1.values()"
   ]
  },
  {
   "cell_type": "code",
   "execution_count": 25,
   "id": "e732e36f",
   "metadata": {},
   "outputs": [
    {
     "data": {
      "text/plain": [
       "{'one': 'value for key one', 'two': 'value for key two'}"
      ]
     },
     "execution_count": 25,
     "metadata": {},
     "output_type": "execute_result"
    }
   ],
   "source": [
    "dict3 = {}\n",
    "dict3[\"one\"] = \"value for key one\"\n",
    "dict3[\"two\"] = \"value for key two\"\n",
    "\n",
    "dict3"
   ]
  },
  {
   "cell_type": "code",
   "execution_count": 31,
   "id": "8fb32442",
   "metadata": {},
   "outputs": [
    {
     "name": "stdout",
     "output_type": "stream",
     "text": [
      "2\n"
     ]
    }
   ],
   "source": [
    "print(len(dict3))"
   ]
  },
  {
   "cell_type": "code",
   "execution_count": 32,
   "id": "fa010b4d",
   "metadata": {},
   "outputs": [
    {
     "name": "stdout",
     "output_type": "stream",
     "text": [
      "<class 'dict'>\n"
     ]
    }
   ],
   "source": [
    "print(type(dict1))"
   ]
  },
  {
   "cell_type": "code",
   "execution_count": 35,
   "id": "a546af69",
   "metadata": {},
   "outputs": [
    {
     "name": "stdout",
     "output_type": "stream",
     "text": [
      "{'institute': 'kjit', 'course': 'artifical intelligence', 'branch': 'information technology'}\n"
     ]
    }
   ],
   "source": [
    "print(dict1)"
   ]
  },
  {
   "cell_type": "code",
   "execution_count": 36,
   "id": "ec48783b",
   "metadata": {},
   "outputs": [
    {
     "data": {
      "text/plain": [
       "'kjit'"
      ]
     },
     "execution_count": 36,
     "metadata": {},
     "output_type": "execute_result"
    }
   ],
   "source": [
    "dict1['institute']"
   ]
  },
  {
   "cell_type": "code",
   "execution_count": 37,
   "id": "8a42533d",
   "metadata": {},
   "outputs": [
    {
     "data": {
      "text/plain": [
       "'artifical intelligence'"
      ]
     },
     "execution_count": 37,
     "metadata": {},
     "output_type": "execute_result"
    }
   ],
   "source": [
    "dict1['course']"
   ]
  },
  {
   "cell_type": "code",
   "execution_count": 39,
   "id": "cbc91131",
   "metadata": {},
   "outputs": [
    {
     "name": "stdout",
     "output_type": "stream",
     "text": [
      "{'institute': 'kjit', 'course': 'python', 'branch': 'information technology'}\n"
     ]
    }
   ],
   "source": [
    "dict1[\"course\"] = \"python\"\n",
    "print(dict1)"
   ]
  },
  {
   "cell_type": "code",
   "execution_count": 40,
   "id": "4b391df0",
   "metadata": {},
   "outputs": [
    {
     "data": {
      "text/plain": [
       "{'institute': 'kjit', 'branch': 'information technology'}"
      ]
     },
     "execution_count": 40,
     "metadata": {},
     "output_type": "execute_result"
    }
   ],
   "source": [
    "del dict1[\"course\"]\n",
    "\n",
    "dict1"
   ]
  },
  {
   "cell_type": "code",
   "execution_count": 41,
   "id": "4241e159",
   "metadata": {},
   "outputs": [
    {
     "name": "stdout",
     "output_type": "stream",
     "text": [
      "{'compnay': ['comp A', 'Com B', 'com C'], 'employee': ['raju', 'shyam', 'shumder']}\n"
     ]
    }
   ],
   "source": [
    "dict3 = {\"compnay\" :[\"comp A\" , \"Com B\" , \"com C\"], \"employee\":[\"raju\",\"shyam\" , \"shumder\"]}\n",
    "print(dict3)"
   ]
  },
  {
   "cell_type": "code",
   "execution_count": 44,
   "id": "f957579d",
   "metadata": {},
   "outputs": [
    {
     "name": "stdout",
     "output_type": "stream",
     "text": [
      "{'compnay': ['comp A', 'Com B', 'jay'], 'employee': ['raju', 'shyam', 'shumder']}\n"
     ]
    }
   ],
   "source": [
    "dict3['compnay'][2] = \"jay\"\n",
    "print(dict3)"
   ]
  },
  {
   "cell_type": "markdown",
   "id": "bbbd9802",
   "metadata": {},
   "source": [
    "# python loops \n",
    "\n",
    "while expression:\n",
    "\n",
    "             statment()"
   ]
  },
  {
   "cell_type": "code",
   "execution_count": 57,
   "id": "ae597dd8",
   "metadata": {},
   "outputs": [
    {
     "name": "stdout",
     "output_type": "stream",
     "text": [
      "Jaypatel\n",
      "Jaypatel\n",
      "Jaypatel\n",
      "Jaypatel\n",
      "Jaypatel\n",
      "avengers :end game\n"
     ]
    }
   ],
   "source": [
    "count = 0\n",
    "\n",
    "while (count < 5):\n",
    "    count = count+1\n",
    "    print(\"Jaypatel\")\n",
    "else : \n",
    "    print(\"avengers :end game\")"
   ]
  },
  {
   "cell_type": "markdown",
   "id": "e9ad9b2f",
   "metadata": {},
   "source": [
    "# for loop\n",
    "\n",
    " for iteration var in seq:\n",
    "      \n",
    "        statment()"
   ]
  },
  {
   "cell_type": "code",
   "execution_count": 58,
   "id": "c8dec870",
   "metadata": {},
   "outputs": [
    {
     "name": "stdout",
     "output_type": "stream",
     "text": [
      "0\n",
      "1\n",
      "2\n",
      "3\n"
     ]
    }
   ],
   "source": [
    "n = 4\n",
    "\n",
    "for i in range(0,n):\n",
    "    print(i)"
   ]
  },
  {
   "cell_type": "code",
   "execution_count": 59,
   "id": "2479b119",
   "metadata": {},
   "outputs": [
    {
     "data": {
      "text/plain": [
       "['hello', 2000, 55.6, False]"
      ]
     },
     "execution_count": 59,
     "metadata": {},
     "output_type": "execute_result"
    }
   ],
   "source": [
    "lst1"
   ]
  },
  {
   "cell_type": "code",
   "execution_count": 64,
   "id": "f9ccb62d",
   "metadata": {},
   "outputs": [
    {
     "name": "stdout",
     "output_type": "stream",
     "text": [
      "hello\n",
      "2000\n",
      "55.6\n",
      "False\n",
      "dr.strange : multiverse of madness\n"
     ]
    }
   ],
   "source": [
    "for index in range(len(lst1)):\n",
    "    print (lst1[index])\n",
    "else:\n",
    "    print(\"dr.strange : multiverse of madness\")"
   ]
  },
  {
   "cell_type": "markdown",
   "id": "8067259e",
   "metadata": {},
   "source": [
    "# if and if else \n"
   ]
  },
  {
   "cell_type": "code",
   "execution_count": 65,
   "id": "1e033596",
   "metadata": {},
   "outputs": [
    {
     "name": "stdout",
     "output_type": "stream",
     "text": [
      "you are groot\n"
     ]
    }
   ],
   "source": [
    "i=0\n",
    "\n",
    "if(i>10):\n",
    "    print(\"iam groot\")\n",
    "else:\n",
    "    print(\"you are groot\")"
   ]
  },
  {
   "cell_type": "code",
   "execution_count": 67,
   "id": "ab2d0cfb",
   "metadata": {},
   "outputs": [
    {
     "name": "stdout",
     "output_type": "stream",
     "text": [
      "i am groot\n"
     ]
    }
   ],
   "source": [
    "if(i<10):\n",
    "    print(\"i am groot\")\n",
    "else:\n",
    "    print(\"you are groot\")"
   ]
  },
  {
   "cell_type": "markdown",
   "id": "4e6e9b2f",
   "metadata": {},
   "source": [
    "# python calculator"
   ]
  },
  {
   "cell_type": "code",
   "execution_count": 3,
   "id": "ca56fd67",
   "metadata": {},
   "outputs": [
    {
     "name": "stdout",
     "output_type": "stream",
     "text": [
      "select operation:\n",
      "1.ADD\n",
      "2.SUB\n",
      "3.DIV\n",
      "4.MUL\n",
      "enter the choice:2\n",
      "enter the number one :12\n",
      "enter the number two :13\n",
      "12 - 13 = -1\n"
     ]
    }
   ],
   "source": [
    "#to make a calculator\n",
    "\n",
    "#addition\n",
    "\n",
    "def add(x,y):\n",
    "    return x+y\n",
    "\n",
    "def sub(x,y):\n",
    "    return x-y\n",
    "\n",
    "def div(x,y):\n",
    "    return x/y\n",
    "\n",
    "def mul(x,y):\n",
    "    return x*y\n",
    "\n",
    "print(\"select operation:\")\n",
    "print(\"1.ADD\")\n",
    "print(\"2.SUB\")\n",
    "print(\"3.DIV\")\n",
    "print(\"4.MUL\")\n",
    "\n",
    "choice = input(\"enter the choice:\")\n",
    "\n",
    "num1 = int(input(\"enter the number one :\"))\n",
    "num2 = int(input(\"enter the number two :\"))\n",
    "\n",
    "if choice =='1' :\n",
    "    print(num1,'+',num2,'=',add(num1,num2))\n",
    "    \n",
    "elif choice =='2' :\n",
    "    print(num1,'-',num2,'=',sub(num1,num2))\n",
    "    \n",
    "elif choice =='3' :\n",
    "    print(num1,'/',num2,'=',div(num1,num2))\n",
    "    \n",
    "elif choice =='4' :\n",
    "    print(num1,'*',num2,'=',mul(num1,num2))\n",
    "    \n",
    "else:\n",
    "    print(\"please select correct option!!!!\")\n",
    "    \n",
    "    "
   ]
  },
  {
   "cell_type": "code",
   "execution_count": null,
   "id": "ec62d229",
   "metadata": {},
   "outputs": [],
   "source": []
  }
 ],
 "metadata": {
  "kernelspec": {
   "display_name": "Python 3 (ipykernel)",
   "language": "python",
   "name": "python3"
  },
  "language_info": {
   "codemirror_mode": {
    "name": "ipython",
    "version": 3
   },
   "file_extension": ".py",
   "mimetype": "text/x-python",
   "name": "python",
   "nbconvert_exporter": "python",
   "pygments_lexer": "ipython3",
   "version": "3.9.7"
  }
 },
 "nbformat": 4,
 "nbformat_minor": 5
}
